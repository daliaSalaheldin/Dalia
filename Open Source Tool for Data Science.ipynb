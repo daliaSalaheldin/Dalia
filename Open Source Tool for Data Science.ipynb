{
    "nbformat_minor": 1, 
    "cells": [
        {
            "source": "# My Jupyter Notebook on IBM Data Science Experienc", 
            "cell_type": "markdown", 
            "metadata": {
                "collapsed": true
            }
        }, 
        {
            "source": "# Dalia Salah", 
            "cell_type": "markdown", 
            "metadata": {}
        }, 
        {
            "source": "  I want to be in Technical field where i can code and ustilise my leaning of languages. I am also intrested in creating games useing Unity.", 
            "cell_type": "markdown", 
            "metadata": {}
        }, 
        {
            "source": "Italic: _I am intrested in data science because i think data science as a very powerfull field. Using data science we can predict demand in market, which is one big reason why data science is so improtent and thats why i want to be a data scientinst._ ", 
            "cell_type": "markdown", 
            "metadata": {}
        }, 
        {
            "source": "###### Variable X is assigned 3 and Variable y is assigned 4. Variable z will store the sum of x and y and we will print z.", 
            "cell_type": "markdown", 
            "metadata": {}
        }, 
        {
            "execution_count": 1, 
            "cell_type": "code", 
            "metadata": {}, 
            "outputs": [
                {
                    "output_type": "stream", 
                    "name": "stdout", 
                    "text": "7\n"
                }
            ], 
            "source": "x=3\ny=4\nz=3+4\nprint(z)"
        }, 
        {
            "source": "1. numbered list  \n2. line 2  \n3. line three  ", 
            "cell_type": "markdown", 
            "metadata": {}
        }, 
        {
            "source": "![bracelet2.jpg](attachment:bracelet2.jpg)", 
            "cell_type": "markdown", 
            "attachments": {
                "bracelet2.jpg": {
                    "image/jpeg": "[encoded data removed]"
                }
            }, 
            "metadata": {}
        }, 
        {
            "source": "[link text]https://www.google.com", 
            "cell_type": "markdown", 
            "metadata": {}
        }, 
        {
            "source": "", 
            "cell_type": "markdown", 
            "metadata": {}
        }, 
        {
            "source": "", 
            "cell_type": "markdown", 
            "metadata": {}
        }
    ], 
    "metadata": {
        "kernelspec": {
            "display_name": "Python 3.6", 
            "name": "python3", 
            "language": "python"
        }, 
        "language_info": {
            "mimetype": "text/x-python", 
            "nbconvert_exporter": "python", 
            "version": "3.6.8", 
            "name": "python", 
            "file_extension": ".py", 
            "pygments_lexer": "ipython3", 
            "codemirror_mode": {
                "version": 3, 
                "name": "ipython"
            }
        }
    }, 
    "nbformat": 4
}